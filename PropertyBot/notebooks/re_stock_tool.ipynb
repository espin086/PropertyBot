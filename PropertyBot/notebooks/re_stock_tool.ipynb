{
 "cells": [
  {
   "cell_type": "markdown",
   "metadata": {
    "collapsed": true
   },
   "source": [
    "# DataFrames\n",
    "\n",
    "DataFrames are the workhorse of pandas and are directly inspired by the R programming language. We can think of a DataFrame as a bunch of Series objects put together to share the same index. Let's use pandas to explore this topic!"
   ]
  },
  {
   "cell_type": "markdown",
   "metadata": {},
   "source": [
    "## Data Prep"
   ]
  },
  {
   "cell_type": "code",
   "execution_count": 20,
   "metadata": {},
   "outputs": [],
   "source": [
    "import pandas as pd\n",
    "import scipy as sp\n",
    "import numpy as np\n",
    "from pandas_datareader import data as pdr\n",
    "import seaborn as sns\n",
    "import matplotlib.pyplot as plt\n",
    "from numpy.linalg import inv, pinv\n",
    "%matplotlib inline"
   ]
  },
  {
   "cell_type": "code",
   "execution_count": 21,
   "metadata": {},
   "outputs": [],
   "source": [
    "def prep_zillow(mycsv,value_name):\n",
    "    df = pd.read_csv('{0}.csv'.format(mycsv), encoding = \"ISO-8859-1\")\n",
    "    if mycsv == 'City_Zhvi_3bedroom':\n",
    "        df = df.drop('RegionID', axis=1)\n",
    "    df = df.melt(id_vars=['RegionName', 'State', 'Metro', 'CountyName', 'SizeRank'], \n",
    "                             var_name='Year_Month', \n",
    "                             value_name=value_name\n",
    "                            )\n",
    "    df = df.set_index(['RegionName', 'State','Year_Month', 'Metro', 'CountyName'])\n",
    "    df.sort_index(inplace=True)\n",
    "    return df\n",
    "\n"
   ]
  },
  {
   "cell_type": "code",
   "execution_count": 22,
   "metadata": {},
   "outputs": [],
   "source": [
    "def get_sp_500():\n",
    "    sp500 = pdr.get_data_yahoo('^GSPC')\n",
    "    sp500['year'] = sp500.index.year\n",
    "    sp500['month'] = sp500.index.month\n",
    "    return sp500"
   ]
  },
  {
   "cell_type": "code",
   "execution_count": 23,
   "metadata": {},
   "outputs": [],
   "source": [
    "def total_return(prices):\n",
    "    \"\"\"Retuns the return between the first and last value of the DataFrame.\n",
    "    Parameters\n",
    "    ----------\n",
    "    prices : pandas.Series or pandas.DataFrame\n",
    "    Returns\n",
    "    -------\n",
    "    total_return : float or pandas.Series\n",
    "        Depending on the input passed returns a float or a pandas.Series.\n",
    "    \"\"\"\n",
    "    return prices.iloc[-1] / prices.iloc[0] - 1"
   ]
  },
  {
   "cell_type": "code",
   "execution_count": 24,
   "metadata": {},
   "outputs": [],
   "source": [
    "def merge_data(city):\n",
    "    home_price = prep_zillow(mycsv='City_Zhvi_3bedroom',value_name='home_price')\n",
    "    home_rent = prep_zillow(mycsv='City_MedianRentalPrice_3Bedroom',value_name='home_rent')\n",
    "    homes = home_price.merge(home_rent, how = 'left', on=['RegionName', 'Year_Month', 'State', 'CountyName', 'SizeRank', 'Metro'])\n",
    "    homes.sort_index(inplace=True)\n",
    "    homes = homes.fillna(0)\n",
    "    homes['adj_price'] = homes['home_price'] + homes['home_rent']\n",
    "    city = homes.loc[city]\n",
    "    city = city.reset_index()\n",
    "    city['return_realestate'] = (city.adj_price - city.adj_price.shift(1))/city.adj_price.shift(1)\n",
    "    city['Year_Month'].loc[0].split(\"-\")\n",
    "    f = lambda x: x[\"Year_Month\"].split(\"-\")\n",
    "    year_month = list(city.apply(f, axis=1))\n",
    "    year_month = pd.DataFrame(year_month)\n",
    "    year_month.columns = ['year', 'month']\n",
    "    city = city.join(year_month, how='left')\n",
    "    city.year = city.year.astype('int64')\n",
    "    city.month = city.month.astype('int64')\n",
    "\n",
    "\n",
    "    sp500 = get_sp_500()\n",
    "    sp500 = pd.DataFrame(sp500.groupby(['year', 'month'], )['Adj Close'].apply(total_return))\n",
    "    sp500['return_sp500'] = sp500['Adj Close']\n",
    "    sp500 = sp500.reset_index()\n",
    "    full_clean = city.merge(sp500, how='inner', left_on =['year','month'], right_on=['year', 'month'])\n",
    "    final_clean = full_clean[['year', 'month', 'Metro', 'return_realestate', 'return_sp500']]\n",
    "    return final_clean\n",
    "\n"
   ]
  },
  {
   "cell_type": "markdown",
   "metadata": {},
   "source": [
    "## Modern Portfolio Theory"
   ]
  },
  {
   "cell_type": "code",
   "execution_count": 38,
   "metadata": {},
   "outputs": [],
   "source": [
    "def mpt(df, desired_returns):\n",
    "    returns = df[['return_realestate', 'return_sp500']]\n",
    "    R = np.array(returns)\n",
    "    stockMean = np.mean(R, axis=0)\n",
    "    n_stock = len(returns.columns)\n",
    "    \n",
    "    def objFunction(W, R, target_ret):\n",
    "        stock_mean = np.mean(R, axis=0)\n",
    "        port_mean = np.dot(W, stock_mean) # portfolio mean\n",
    "        cov = np.cov(R.T) # var-cov matrix\n",
    "        port_var = np.dot(np.dot(W, cov), W.T) # portfolio variance\n",
    "        penalty = 2000*abs(port_mean-target_ret) # penalty for deviation\n",
    "        return np.sqrt(port_var) + penalty #objective function\n",
    "    \n",
    "    out_mean, out_std, out_weight = [], [], []\n",
    "    for r in np.linspace(np.min(stockMean), np.max(stockMean), num=100):\n",
    "        W = np.ones([n_stock])/n_stock\n",
    "        b_ = [(0,1), (0,1)]\n",
    "        c_ = ({'type': 'eq', 'fun': lambda W: sum(W) - 1})\n",
    "        for i in range(n_stock):\n",
    "            result=sp.optimize.minimize(objFunction, W, (R, r), method='SLSQP', constraints=c_, bounds=b_)\n",
    "            if not result.success: \n",
    "                BaseException(result.message)\n",
    "\n",
    "            out_mean.append(round(r, 4))\n",
    "            std_=round(np.std(np.sum(R*result.x, axis=1)), 6)\n",
    "            out_std.append(std_)\n",
    "            out_weight.append(result.x)\n",
    "            \n",
    "        mean = pd.DataFrame(out_mean) \n",
    "        std = pd.DataFrame(out_std)\n",
    "        weight = pd.DataFrame(out_weight)\n",
    "        result1 = pd.merge(mean, std, left_index=True, right_index=True)\n",
    "        result2 = pd.merge(result1, weight, left_index=True, right_index=True)\n",
    "        result2.columns = ['mean', 'std', 'weight_realestate', 'weight_stocks']\n",
    "        result2 = result2.round(4)\n",
    "        result2['annual_mean'] = (1 + result2['mean'])**12 - 1\n",
    "    \n",
    "  \n",
    "    return result2.loc[(result2['annual_mean'] > desired_returns - .01) & (result2['annual_mean'] < desired_returns + .01)].describe().T\n",
    "        "
   ]
  },
  {
   "cell_type": "code",
   "execution_count": 26,
   "metadata": {},
   "outputs": [],
   "source": [
    "def get_city_list():\n",
    "    city_list = pd.read_csv('City_Zhvi_3bedroom.csv', encoding = \"ISO-8859-1\")\n",
    "    return city_list['RegionName'].head(40)"
   ]
  },
  {
   "cell_type": "code",
   "execution_count": 27,
   "metadata": {},
   "outputs": [],
   "source": [
    "def main(city, desired_returns):\n",
    "    return_data = merge_data(city=city)\n",
    "    return mpt(df=return_data, desired_returns=desired_returns)\n"
   ]
  },
  {
   "cell_type": "code",
   "execution_count": 28,
   "metadata": {},
   "outputs": [],
   "source": [
    "def ui():\n",
    "    print(get_city_list())\n",
    "    city = input(\"City of Real Estate Investment (Single-Family Residence)):  \")\n",
    "    desired_returns = float(input(\"What is your desired returns? Typically between 0.5 and .10 annually:  \"))\n",
    "    return main(city=city, desired_returns=desired_returns)\n",
    "    "
   ]
  },
  {
   "cell_type": "code",
   "execution_count": 29,
   "metadata": {},
   "outputs": [],
   "source": [
    "# ui()"
   ]
  },
  {
   "cell_type": "markdown",
   "metadata": {},
   "source": [
    "## Analysis of Different Cities"
   ]
  },
  {
   "cell_type": "code",
   "execution_count": 39,
   "metadata": {},
   "outputs": [
    {
     "data": {
      "text/html": [
       "<div>\n",
       "<style scoped>\n",
       "    .dataframe tbody tr th:only-of-type {\n",
       "        vertical-align: middle;\n",
       "    }\n",
       "\n",
       "    .dataframe tbody tr th {\n",
       "        vertical-align: top;\n",
       "    }\n",
       "\n",
       "    .dataframe thead th {\n",
       "        text-align: right;\n",
       "    }\n",
       "</style>\n",
       "<table border=\"1\" class=\"dataframe\">\n",
       "  <thead>\n",
       "    <tr style=\"text-align: right;\">\n",
       "      <th></th>\n",
       "      <th>count</th>\n",
       "      <th>mean</th>\n",
       "      <th>std</th>\n",
       "      <th>min</th>\n",
       "      <th>25%</th>\n",
       "      <th>50%</th>\n",
       "      <th>75%</th>\n",
       "      <th>max</th>\n",
       "    </tr>\n",
       "  </thead>\n",
       "  <tbody>\n",
       "    <tr>\n",
       "      <th>mean</th>\n",
       "      <td>102.0</td>\n",
       "      <td>0.006457</td>\n",
       "      <td>0.000463</td>\n",
       "      <td>0.005700</td>\n",
       "      <td>0.006025</td>\n",
       "      <td>0.00650</td>\n",
       "      <td>0.006875</td>\n",
       "      <td>0.007200</td>\n",
       "    </tr>\n",
       "    <tr>\n",
       "      <th>std</th>\n",
       "      <td>102.0</td>\n",
       "      <td>0.023337</td>\n",
       "      <td>0.005338</td>\n",
       "      <td>0.014400</td>\n",
       "      <td>0.018700</td>\n",
       "      <td>0.02330</td>\n",
       "      <td>0.027925</td>\n",
       "      <td>0.032400</td>\n",
       "    </tr>\n",
       "    <tr>\n",
       "      <th>weight_realestate</th>\n",
       "      <td>102.0</td>\n",
       "      <td>0.363624</td>\n",
       "      <td>0.149433</td>\n",
       "      <td>0.111100</td>\n",
       "      <td>0.234825</td>\n",
       "      <td>0.36360</td>\n",
       "      <td>0.492375</td>\n",
       "      <td>0.616200</td>\n",
       "    </tr>\n",
       "    <tr>\n",
       "      <th>weight_stocks</th>\n",
       "      <td>102.0</td>\n",
       "      <td>0.636376</td>\n",
       "      <td>0.149433</td>\n",
       "      <td>0.383800</td>\n",
       "      <td>0.507625</td>\n",
       "      <td>0.63640</td>\n",
       "      <td>0.765175</td>\n",
       "      <td>0.888900</td>\n",
       "    </tr>\n",
       "    <tr>\n",
       "      <th>annual_mean</th>\n",
       "      <td>102.0</td>\n",
       "      <td>0.080309</td>\n",
       "      <td>0.005969</td>\n",
       "      <td>0.070586</td>\n",
       "      <td>0.074745</td>\n",
       "      <td>0.08085</td>\n",
       "      <td>0.085692</td>\n",
       "      <td>0.089905</td>\n",
       "    </tr>\n",
       "  </tbody>\n",
       "</table>\n",
       "</div>"
      ],
      "text/plain": [
       "                   count      mean       std       min       25%      50%  \\\n",
       "mean               102.0  0.006457  0.000463  0.005700  0.006025  0.00650   \n",
       "std                102.0  0.023337  0.005338  0.014400  0.018700  0.02330   \n",
       "weight_realestate  102.0  0.363624  0.149433  0.111100  0.234825  0.36360   \n",
       "weight_stocks      102.0  0.636376  0.149433  0.383800  0.507625  0.63640   \n",
       "annual_mean        102.0  0.080309  0.005969  0.070586  0.074745  0.08085   \n",
       "\n",
       "                        75%       max  \n",
       "mean               0.006875  0.007200  \n",
       "std                0.027925  0.032400  \n",
       "weight_realestate  0.492375  0.616200  \n",
       "weight_stocks      0.765175  0.888900  \n",
       "annual_mean        0.085692  0.089905  "
      ]
     },
     "execution_count": 39,
     "metadata": {},
     "output_type": "execute_result"
    }
   ],
   "source": [
    "main(city='Los Angeles', desired_returns=.08)"
   ]
  },
  {
   "cell_type": "code",
   "execution_count": 40,
   "metadata": {},
   "outputs": [
    {
     "data": {
      "text/html": [
       "<div>\n",
       "<style scoped>\n",
       "    .dataframe tbody tr th:only-of-type {\n",
       "        vertical-align: middle;\n",
       "    }\n",
       "\n",
       "    .dataframe tbody tr th {\n",
       "        vertical-align: top;\n",
       "    }\n",
       "\n",
       "    .dataframe thead th {\n",
       "        text-align: right;\n",
       "    }\n",
       "</style>\n",
       "<table border=\"1\" class=\"dataframe\">\n",
       "  <thead>\n",
       "    <tr style=\"text-align: right;\">\n",
       "      <th></th>\n",
       "      <th>count</th>\n",
       "      <th>mean</th>\n",
       "      <th>std</th>\n",
       "      <th>min</th>\n",
       "      <th>25%</th>\n",
       "      <th>50%</th>\n",
       "      <th>75%</th>\n",
       "      <th>max</th>\n",
       "    </tr>\n",
       "  </thead>\n",
       "  <tbody>\n",
       "    <tr>\n",
       "      <th>mean</th>\n",
       "      <td>94.0</td>\n",
       "      <td>0.006445</td>\n",
       "      <td>0.000467</td>\n",
       "      <td>0.005700</td>\n",
       "      <td>0.006025</td>\n",
       "      <td>0.006400</td>\n",
       "      <td>0.006875</td>\n",
       "      <td>0.007200</td>\n",
       "    </tr>\n",
       "    <tr>\n",
       "      <th>std</th>\n",
       "      <td>94.0</td>\n",
       "      <td>0.024070</td>\n",
       "      <td>0.004907</td>\n",
       "      <td>0.015900</td>\n",
       "      <td>0.019800</td>\n",
       "      <td>0.024000</td>\n",
       "      <td>0.028300</td>\n",
       "      <td>0.032400</td>\n",
       "    </tr>\n",
       "    <tr>\n",
       "      <th>weight_realestate</th>\n",
       "      <td>94.0</td>\n",
       "      <td>0.343417</td>\n",
       "      <td>0.137762</td>\n",
       "      <td>0.111100</td>\n",
       "      <td>0.224725</td>\n",
       "      <td>0.343400</td>\n",
       "      <td>0.462075</td>\n",
       "      <td>0.575800</td>\n",
       "    </tr>\n",
       "    <tr>\n",
       "      <th>weight_stocks</th>\n",
       "      <td>94.0</td>\n",
       "      <td>0.656583</td>\n",
       "      <td>0.137762</td>\n",
       "      <td>0.424200</td>\n",
       "      <td>0.537925</td>\n",
       "      <td>0.656600</td>\n",
       "      <td>0.775275</td>\n",
       "      <td>0.888900</td>\n",
       "    </tr>\n",
       "    <tr>\n",
       "      <th>annual_mean</th>\n",
       "      <td>94.0</td>\n",
       "      <td>0.080152</td>\n",
       "      <td>0.006013</td>\n",
       "      <td>0.070586</td>\n",
       "      <td>0.074745</td>\n",
       "      <td>0.079562</td>\n",
       "      <td>0.085692</td>\n",
       "      <td>0.089905</td>\n",
       "    </tr>\n",
       "  </tbody>\n",
       "</table>\n",
       "</div>"
      ],
      "text/plain": [
       "                   count      mean       std       min       25%       50%  \\\n",
       "mean                94.0  0.006445  0.000467  0.005700  0.006025  0.006400   \n",
       "std                 94.0  0.024070  0.004907  0.015900  0.019800  0.024000   \n",
       "weight_realestate   94.0  0.343417  0.137762  0.111100  0.224725  0.343400   \n",
       "weight_stocks       94.0  0.656583  0.137762  0.424200  0.537925  0.656600   \n",
       "annual_mean         94.0  0.080152  0.006013  0.070586  0.074745  0.079562   \n",
       "\n",
       "                        75%       max  \n",
       "mean               0.006875  0.007200  \n",
       "std                0.028300  0.032400  \n",
       "weight_realestate  0.462075  0.575800  \n",
       "weight_stocks      0.775275  0.888900  \n",
       "annual_mean        0.085692  0.089905  "
      ]
     },
     "execution_count": 40,
     "metadata": {},
     "output_type": "execute_result"
    }
   ],
   "source": [
    "main(city='Memphis', desired_returns=.08)"
   ]
  },
  {
   "cell_type": "code",
   "execution_count": null,
   "metadata": {},
   "outputs": [],
   "source": []
  }
 ],
 "metadata": {
  "kernelspec": {
   "display_name": "Python 3",
   "language": "python",
   "name": "python3"
  },
  "language_info": {
   "codemirror_mode": {
    "name": "ipython",
    "version": 3
   },
   "file_extension": ".py",
   "mimetype": "text/x-python",
   "name": "python",
   "nbconvert_exporter": "python",
   "pygments_lexer": "ipython3",
   "version": "3.7.3"
  }
 },
 "nbformat": 4,
 "nbformat_minor": 1
}
