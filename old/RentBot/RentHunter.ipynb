{
 "cells": [
  {
   "cell_type": "markdown",
   "metadata": {},
   "source": [
    "# RentHunter\n",
    "\n",
    "## Objective/Goal\n",
    "\n",
    "* Find a good rental market in Los Angeles for family.\n",
    "* Automate the examination of rental housing in a rental market.\n",
    "* Develop a user-friendly data product to express findings.\n",
    "\n",
    "\n",
    "## Methodology\n",
    "* **Data Collection** \n",
    "    * use Zillow & Census data to find good rental markets. \n",
    "    * get rental data from Zillow on rental listings. \n",
    "* **Data Analysis** \n",
    "    * Define criteria for a 'good' neighboorhood\n",
    "    * Define a criteria for what a 'good' rental listing is. \n",
    "    \n",
    "* **Data Product**\n",
    "    * Identify a minimally viable product/report \n",
    "    * Decide of this analysis needs to scale"
   ]
  },
  {
   "cell_type": "markdown",
   "metadata": {},
   "source": [
    "## Data Collection"
   ]
  },
  {
   "cell_type": "code",
   "execution_count": 61,
   "metadata": {
    "ExecuteTime": {
     "end_time": "2020-05-07T23:10:08.708634Z",
     "start_time": "2020-05-07T23:10:08.705958Z"
    }
   },
   "outputs": [],
   "source": [
    "def get_census_data():\n",
    "    \"\"\"\n",
    "    Pull key metrics for neighborhood analysis for families.\n",
    "    \n",
    "    Args:\n",
    "    ------------------------------\n",
    "    zip_code(int): zip code in the United States.\n",
    "    \n",
    "    Returns:\n",
    "    ------------------------------\n",
    "    df(dataframe): key neighborhood statistics by year. \n",
    "    \n",
    "    TODO:\n",
    "    - get latest census api connection to python\n",
    "    - identify variables in table for good neighborhood\n",
    "    - save data in a sqlite database locally\n",
    "    \"\"\"\n",
    "    return None"
   ]
  },
  {
   "cell_type": "code",
   "execution_count": 62,
   "metadata": {
    "ExecuteTime": {
     "end_time": "2020-05-07T23:10:08.713046Z",
     "start_time": "2020-05-07T23:10:08.710708Z"
    }
   },
   "outputs": [],
   "source": [
    "def get_zillow_rent_data():\n",
    "    \"\"\"\n",
    "    Pull rental rates by neighborhood. \n",
    "    \n",
    "    Args:\n",
    "    ------------------------------\n",
    "    zip_code(int): zip code in the United States.\n",
    "    \n",
    "    Returns:\n",
    "    ------------------------------\n",
    "    df(dataframe): rental rates for different neighborhoods. \n",
    "    \n",
    "    TODO:\n",
    "    - get latest zillow api connection to python\n",
    "    - save data in a sqlite database locally\n",
    "    \n",
    "    \"\"\"\n",
    "    \n",
    "    \n",
    "    \n",
    "    return None"
   ]
  },
  {
   "cell_type": "code",
   "execution_count": 63,
   "metadata": {
    "ExecuteTime": {
     "end_time": "2020-05-07T23:10:08.717167Z",
     "start_time": "2020-05-07T23:10:08.714714Z"
    }
   },
   "outputs": [],
   "source": [
    "def get_rental_listings():\n",
    "    \"\"\"\n",
    "    Pull current rentals for a given market\n",
    "    \n",
    "    Args:\n",
    "    ------------------------------\n",
    "    zip_code(int): zip code in the United States.\n",
    "    \n",
    "    Returns:\n",
    "    ------------------------------\n",
    "    df(dataframe): current rental listings. \n",
    "    \n",
    "    \n",
    "    TODO:\n",
    "    - identify best api to pull rental data\n",
    "    - save data in a sqlite database locally\n",
    "    \n",
    "    \"\"\"\n",
    "    return None"
   ]
  },
  {
   "cell_type": "markdown",
   "metadata": {},
   "source": [
    "## Data Analysis"
   ]
  },
  {
   "cell_type": "code",
   "execution_count": 64,
   "metadata": {
    "ExecuteTime": {
     "end_time": "2020-05-07T23:10:08.721631Z",
     "start_time": "2020-05-07T23:10:08.719206Z"
    }
   },
   "outputs": [],
   "source": [
    "def rank_neighborhood():\n",
    "    \"\"\"\n",
    "    Pull metrics for a major metropolitan area. \n",
    "    \n",
    "    Args:\n",
    "    ------------------------------\n",
    "    metro(string): name of a Metropolitan area. \n",
    "    \n",
    "    Returns:\n",
    "    ------------------------------\n",
    "    df(dataframe): a ranking of neighboorhoods based on criteria. \n",
    "    \n",
    "    \n",
    "    TODO:\n",
    "    - data exploration on neighboorhoods saved to images\n",
    "    - decide on how ranking algorithm will work\n",
    "    - save data to a sqlite database locally\n",
    "    \n",
    "    \"\"\"\n",
    "    return None"
   ]
  },
  {
   "cell_type": "code",
   "execution_count": 65,
   "metadata": {
    "ExecuteTime": {
     "end_time": "2020-05-07T23:10:08.725393Z",
     "start_time": "2020-05-07T23:10:08.723038Z"
    }
   },
   "outputs": [],
   "source": [
    "def rank_listings():\n",
    "    \"\"\"\n",
    "    Rank rental listings. \n",
    "    \n",
    "    Args:\n",
    "    ------------------------------\n",
    "    zipcode(int): Zip Code in the United States. \n",
    "    \n",
    "    Returns:\n",
    "    ------------------------------\n",
    "    df(dataframe): ranks listings based on criteria. \n",
    "    \n",
    "    \n",
    "    TODO:\n",
    "    - data exploration on listings saved to images\n",
    "    - decide on how ranking algorithm will work\n",
    "    - save data to a sqlite database locally\n",
    "    \n",
    "    \"\"\"\n",
    "    return None"
   ]
  },
  {
   "cell_type": "markdown",
   "metadata": {},
   "source": [
    "## Data Product"
   ]
  },
  {
   "cell_type": "code",
   "execution_count": 66,
   "metadata": {
    "ExecuteTime": {
     "end_time": "2020-05-07T23:10:08.732798Z",
     "start_time": "2020-05-07T23:10:08.727591Z"
    }
   },
   "outputs": [],
   "source": [
    "def menu():\n",
    "    \"\"\"\n",
    "    Menu for underlying program to perform analysis. \n",
    "    \n",
    "    Args:\n",
    "    ------------------------------\n",
    "    None \n",
    "    \n",
    "    Returns:\n",
    "    ------------------------------\n",
    "    None \n",
    "    \n",
    "    \n",
    "    TODO:\n",
    "    - create simple UI \n",
    "    - develop into a simple Flash Web application locally\n",
    "    \"\"\"\n",
    "    \n",
    "    \n",
    "      \n",
    "    main_menu = \"\"\"\n",
    "    --------------------------------\n",
    "    Please make a selection:\n",
    "\n",
    "    n = Find good neighborhoods\n",
    "    l = Find good listings\n",
    "    q = quit\n",
    "    --------------------------------\n",
    "    \"\"\"\n",
    "    print(main_menu)\n",
    "    \n",
    "    while True:\n",
    "\n",
    "        main_menu_choice = input()\n",
    "\n",
    "        if main_menu_choice == 'n':\n",
    "            print(\"INFO: Good Neighboorhoods\")\n",
    "        elif main_menu_choice == 'l':\n",
    "            print(\"INFO: Good Listings\")\n",
    "        elif main_menu_choice == 'q':\n",
    "            print(\"INFO: You quit the program\")\n",
    "            break\n",
    "        else:\n",
    "            print(\"ERROR: Please enter valid input\")\n",
    "            print(main_menu)\n",
    "    \n",
    "    return None\n",
    "\n",
    "\n",
    "        "
   ]
  },
  {
   "cell_type": "markdown",
   "metadata": {},
   "source": [
    "## Main"
   ]
  },
  {
   "cell_type": "code",
   "execution_count": null,
   "metadata": {
    "ExecuteTime": {
     "start_time": "2020-05-07T23:10:08.713Z"
    }
   },
   "outputs": [],
   "source": [
    "def main():\n",
    "    \"\"\"\n",
    "    The main function of the program \n",
    "    \n",
    "    Args:\n",
    "    ------------------------------\n",
    "    None \n",
    "    \n",
    "    Returns:\n",
    "    ------------------------------\n",
    "    None \n",
    "    \n",
    "    TODO:\n",
    "    - create local version of tool\n",
    "    - publish to web using Heroku\n",
    "    \n",
    "    \"\"\"\n",
    "    \n",
    "    menu()\n",
    "    return None"
   ]
  },
  {
   "cell_type": "code",
   "execution_count": null,
   "metadata": {
    "ExecuteTime": {
     "start_time": "2020-05-07T23:10:08.714Z"
    }
   },
   "outputs": [
    {
     "name": "stdout",
     "output_type": "stream",
     "text": [
      "\n",
      "    --------------------------------\n",
      "    Please make a selection:\n",
      "\n",
      "    n = Find good neighborhoods\n",
      "    l = Find good listings\n",
      "    q = quit\n",
      "    --------------------------------\n",
      "    \n"
     ]
    }
   ],
   "source": [
    "main()"
   ]
  },
  {
   "cell_type": "code",
   "execution_count": null,
   "metadata": {},
   "outputs": [],
   "source": []
  }
 ],
 "metadata": {
  "hide_input": false,
  "kernelspec": {
   "display_name": "Python 3",
   "language": "python",
   "name": "python3"
  },
  "language_info": {
   "codemirror_mode": {
    "name": "ipython",
    "version": 3
   },
   "file_extension": ".py",
   "mimetype": "text/x-python",
   "name": "python",
   "nbconvert_exporter": "python",
   "pygments_lexer": "ipython3",
   "version": "3.7.3"
  },
  "toc": {
   "base_numbering": 1,
   "nav_menu": {},
   "number_sections": true,
   "sideBar": true,
   "skip_h1_title": false,
   "title_cell": "Table of Contents",
   "title_sidebar": "Contents",
   "toc_cell": false,
   "toc_position": {},
   "toc_section_display": true,
   "toc_window_display": false
  },
  "varInspector": {
   "cols": {
    "lenName": 16,
    "lenType": 16,
    "lenVar": 40
   },
   "kernels_config": {
    "python": {
     "delete_cmd_postfix": "",
     "delete_cmd_prefix": "del ",
     "library": "var_list.py",
     "varRefreshCmd": "print(var_dic_list())"
    },
    "r": {
     "delete_cmd_postfix": ") ",
     "delete_cmd_prefix": "rm(",
     "library": "var_list.r",
     "varRefreshCmd": "cat(var_dic_list()) "
    }
   },
   "types_to_exclude": [
    "module",
    "function",
    "builtin_function_or_method",
    "instance",
    "_Feature"
   ],
   "window_display": false
  }
 },
 "nbformat": 4,
 "nbformat_minor": 2
}
