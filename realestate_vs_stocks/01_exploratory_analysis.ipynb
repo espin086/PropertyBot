{
 "cells": [
  {
   "cell_type": "code",
   "execution_count": 2,
   "metadata": {
    "ExecuteTime": {
     "end_time": "2019-09-30T17:55:43.540722Z",
     "start_time": "2019-09-30T17:55:42.715403Z"
    }
   },
   "outputs": [],
   "source": [
    "import pandas as pd\n",
    "from pandas.plotting import register_matplotlib_converters\n",
    "register_matplotlib_converters()\n",
    "import seaborn as sns\n",
    "%matplotlib inline\n",
    "import re_stock_tool\n"
   ]
  },
  {
   "cell_type": "code",
   "execution_count": 3,
   "metadata": {
    "ExecuteTime": {
     "end_time": "2019-09-30T17:55:43.883882Z",
     "start_time": "2019-09-30T17:55:43.542545Z"
    }
   },
   "outputs": [
    {
     "data": {
      "text/plain": [
       "0          Los Angeles\n",
       "1              Houston\n",
       "2              Chicago\n",
       "3          San Antonio\n",
       "4         Philadelphia\n",
       "5            Las Vegas\n",
       "6            San Diego\n",
       "7               Dallas\n",
       "8               Austin\n",
       "9             San Jose\n",
       "10        Jacksonville\n",
       "11        Indianapolis\n",
       "12       San Francisco\n",
       "13           Charlotte\n",
       "14          Fort Worth\n",
       "15            Columbus\n",
       "16          Louisville\n",
       "17             Orlando\n",
       "18             El Paso\n",
       "19              Denver\n",
       "20             Seattle\n",
       "21             Memphis\n",
       "22              Boston\n",
       "23          Washington\n",
       "24            Portland\n",
       "25           Nashville\n",
       "26          Sacramento\n",
       "27           Milwaukee\n",
       "28              Fresno\n",
       "29               Omaha\n",
       "30         Albuquerque\n",
       "31       Oklahoma City\n",
       "32             Raleigh\n",
       "33               Miami\n",
       "34             Atlanta\n",
       "35         Kansas City\n",
       "36    Colorado Springs\n",
       "37          Long Beach\n",
       "38      Virginia Beach\n",
       "39             Oakland\n",
       "Name: RegionName, dtype: object"
      ]
     },
     "execution_count": 3,
     "metadata": {},
     "output_type": "execute_result"
    }
   ],
   "source": [
    "CITY = 'Los Angeles'\n",
    "re_stock_tool.get_city_list()"
   ]
  },
  {
   "cell_type": "markdown",
   "metadata": {},
   "source": [
    "## Using Custom Tool\n",
    "\n",
    "In order to support faster exploratory analysis and data processing a seperate Python module was created called **re_stock_tool**, which stands for Real Estate & Stock Tool.\n",
    "\n",
    "After importing the module above one can use the help function to examine the contents of the functions available to the user."
   ]
  },
  {
   "cell_type": "code",
   "execution_count": 4,
   "metadata": {
    "ExecuteTime": {
     "end_time": "2019-09-30T17:55:43.887277Z",
     "start_time": "2019-09-30T17:55:43.885379Z"
    }
   },
   "outputs": [],
   "source": [
    "# help(re_stock_tool)"
   ]
  },
  {
   "cell_type": "markdown",
   "metadata": {},
   "source": [
    "## Exploring SP 500 and Real Estate Returns"
   ]
  },
  {
   "cell_type": "code",
   "execution_count": 5,
   "metadata": {
    "ExecuteTime": {
     "end_time": "2019-09-30T17:55:44.753519Z",
     "start_time": "2019-09-30T17:55:43.888955Z"
    }
   },
   "outputs": [
    {
     "data": {
      "text/html": [
       "<div>\n",
       "<style scoped>\n",
       "    .dataframe tbody tr th:only-of-type {\n",
       "        vertical-align: middle;\n",
       "    }\n",
       "\n",
       "    .dataframe tbody tr th {\n",
       "        vertical-align: top;\n",
       "    }\n",
       "\n",
       "    .dataframe thead th {\n",
       "        text-align: right;\n",
       "    }\n",
       "</style>\n",
       "<table border=\"1\" class=\"dataframe\">\n",
       "  <thead>\n",
       "    <tr style=\"text-align: right;\">\n",
       "      <th></th>\n",
       "      <th>Date</th>\n",
       "      <th>High</th>\n",
       "      <th>Low</th>\n",
       "      <th>Open</th>\n",
       "      <th>Close</th>\n",
       "      <th>Volume</th>\n",
       "      <th>Adj Close</th>\n",
       "      <th>year</th>\n",
       "      <th>month</th>\n",
       "    </tr>\n",
       "  </thead>\n",
       "  <tbody>\n",
       "    <tr>\n",
       "      <th>2447</th>\n",
       "      <td>2019-09-24</td>\n",
       "      <td>3007.979980</td>\n",
       "      <td>2957.729980</td>\n",
       "      <td>3002.429932</td>\n",
       "      <td>2966.600098</td>\n",
       "      <td>3868160000</td>\n",
       "      <td>2966.600098</td>\n",
       "      <td>2019</td>\n",
       "      <td>9</td>\n",
       "    </tr>\n",
       "    <tr>\n",
       "      <th>2448</th>\n",
       "      <td>2019-09-25</td>\n",
       "      <td>2989.820068</td>\n",
       "      <td>2952.860107</td>\n",
       "      <td>2968.350098</td>\n",
       "      <td>2984.870117</td>\n",
       "      <td>3318870000</td>\n",
       "      <td>2984.870117</td>\n",
       "      <td>2019</td>\n",
       "      <td>9</td>\n",
       "    </tr>\n",
       "    <tr>\n",
       "      <th>2449</th>\n",
       "      <td>2019-09-26</td>\n",
       "      <td>2987.280029</td>\n",
       "      <td>2963.709961</td>\n",
       "      <td>2985.729980</td>\n",
       "      <td>2977.620117</td>\n",
       "      <td>3077240000</td>\n",
       "      <td>2977.620117</td>\n",
       "      <td>2019</td>\n",
       "      <td>9</td>\n",
       "    </tr>\n",
       "    <tr>\n",
       "      <th>2450</th>\n",
       "      <td>2019-09-27</td>\n",
       "      <td>2987.310059</td>\n",
       "      <td>2945.530029</td>\n",
       "      <td>2985.469971</td>\n",
       "      <td>2961.790039</td>\n",
       "      <td>3243650000</td>\n",
       "      <td>2961.790039</td>\n",
       "      <td>2019</td>\n",
       "      <td>9</td>\n",
       "    </tr>\n",
       "    <tr>\n",
       "      <th>2451</th>\n",
       "      <td>2019-09-30</td>\n",
       "      <td>2983.850098</td>\n",
       "      <td>2967.070068</td>\n",
       "      <td>2967.070068</td>\n",
       "      <td>2981.840088</td>\n",
       "      <td>741425990</td>\n",
       "      <td>2981.840088</td>\n",
       "      <td>2019</td>\n",
       "      <td>9</td>\n",
       "    </tr>\n",
       "  </tbody>\n",
       "</table>\n",
       "</div>"
      ],
      "text/plain": [
       "           Date         High          Low         Open        Close  \\\n",
       "2447 2019-09-24  3007.979980  2957.729980  3002.429932  2966.600098   \n",
       "2448 2019-09-25  2989.820068  2952.860107  2968.350098  2984.870117   \n",
       "2449 2019-09-26  2987.280029  2963.709961  2985.729980  2977.620117   \n",
       "2450 2019-09-27  2987.310059  2945.530029  2985.469971  2961.790039   \n",
       "2451 2019-09-30  2983.850098  2967.070068  2967.070068  2981.840088   \n",
       "\n",
       "          Volume    Adj Close  year  month  \n",
       "2447  3868160000  2966.600098  2019      9  \n",
       "2448  3318870000  2984.870117  2019      9  \n",
       "2449  3077240000  2977.620117  2019      9  \n",
       "2450  3243650000  2961.790039  2019      9  \n",
       "2451   741425990  2981.840088  2019      9  "
      ]
     },
     "execution_count": 5,
     "metadata": {},
     "output_type": "execute_result"
    }
   ],
   "source": [
    "sp500 = re_stock_tool.get_sp_500()\n",
    "sp500.reset_index(inplace=True)\n",
    "sp500.tail()"
   ]
  },
  {
   "cell_type": "code",
   "execution_count": 6,
   "metadata": {
    "ExecuteTime": {
     "end_time": "2019-09-30T17:55:45.105237Z",
     "start_time": "2019-09-30T17:55:44.754835Z"
    }
   },
   "outputs": [
    {
     "data": {
      "text/plain": [
       "<matplotlib.axes._subplots.AxesSubplot at 0x7fbfc2978278>"
      ]
     },
     "execution_count": 6,
     "metadata": {},
     "output_type": "execute_result"
    },
    {
     "data": {
      "image/png": "[encoded data removed]",
      "text/plain": [
       "<Figure size 432x288 with 1 Axes>"
      ]
     },
     "metadata": {
      "needs_background": "light"
     },
     "output_type": "display_data"
    }
   ],
   "source": [
    "sns.lineplot(x=\"Date\", y=\"Adj Close\", data=sp500)"
   ]
  },
  {
   "cell_type": "code",
   "execution_count": 7,
   "metadata": {
    "ExecuteTime": {
     "end_time": "2019-09-30T17:55:49.117098Z",
     "start_time": "2019-09-30T17:55:45.106723Z"
    }
   },
   "outputs": [],
   "source": [
    "home_prices = pd.DataFrame(re_stock_tool.prep_zillow(mycsv='City_Zhvi_3bedroom', value_name='home_price'))\n",
    "home_prices.reset_index(inplace=True)\n",
    "\n"
   ]
  },
  {
   "cell_type": "markdown",
   "metadata": {},
   "source": [
    "* Both Real Estate and Stocks have enjoyed an upward trends since 2011\n",
    "* Though the Stock Market gains have been more volatile"
   ]
  },
  {
   "cell_type": "markdown",
   "metadata": {},
   "source": [
    "## Merging City Returns and sp500 Stock Returns By Month"
   ]
  },
  {
   "cell_type": "code",
   "execution_count": 8,
   "metadata": {
    "ExecuteTime": {
     "end_time": "2019-09-30T17:55:58.652140Z",
     "start_time": "2019-09-30T17:55:49.118501Z"
    }
   },
   "outputs": [],
   "source": [
    "returns = re_stock_tool.merge_data(city=CITY)"
   ]
  },
  {
   "cell_type": "code",
   "execution_count": 9,
   "metadata": {
    "ExecuteTime": {
     "end_time": "2019-09-30T17:55:58.666624Z",
     "start_time": "2019-09-30T17:55:58.654296Z"
    }
   },
   "outputs": [
    {
     "data": {
      "text/html": [
       "<div>\n",
       "<style scoped>\n",
       "    .dataframe tbody tr th:only-of-type {\n",
       "        vertical-align: middle;\n",
       "    }\n",
       "\n",
       "    .dataframe tbody tr th {\n",
       "        vertical-align: top;\n",
       "    }\n",
       "\n",
       "    .dataframe thead th {\n",
       "        text-align: right;\n",
       "    }\n",
       "</style>\n",
       "<table border=\"1\" class=\"dataframe\">\n",
       "  <thead>\n",
       "    <tr style=\"text-align: right;\">\n",
       "      <th></th>\n",
       "      <th>year</th>\n",
       "      <th>month</th>\n",
       "      <th>Metro</th>\n",
       "      <th>return_realestate</th>\n",
       "      <th>return_sp500</th>\n",
       "    </tr>\n",
       "  </thead>\n",
       "  <tbody>\n",
       "    <tr>\n",
       "      <th>110</th>\n",
       "      <td>2019</td>\n",
       "      <td>3</td>\n",
       "      <td>Los Angeles-Long Beach-Anaheim</td>\n",
       "      <td>-0.002426</td>\n",
       "      <td>0.010953</td>\n",
       "    </tr>\n",
       "    <tr>\n",
       "      <th>111</th>\n",
       "      <td>2019</td>\n",
       "      <td>4</td>\n",
       "      <td>Los Angeles-Long Beach-Anaheim</td>\n",
       "      <td>-0.001064</td>\n",
       "      <td>0.027428</td>\n",
       "    </tr>\n",
       "    <tr>\n",
       "      <th>112</th>\n",
       "      <td>2019</td>\n",
       "      <td>5</td>\n",
       "      <td>Los Angeles-Long Beach-Anaheim</td>\n",
       "      <td>0.000456</td>\n",
       "      <td>-0.058716</td>\n",
       "    </tr>\n",
       "    <tr>\n",
       "      <th>113</th>\n",
       "      <td>2019</td>\n",
       "      <td>6</td>\n",
       "      <td>Los Angeles-Long Beach-Anaheim</td>\n",
       "      <td>-0.000760</td>\n",
       "      <td>0.071894</td>\n",
       "    </tr>\n",
       "    <tr>\n",
       "      <th>114</th>\n",
       "      <td>2019</td>\n",
       "      <td>7</td>\n",
       "      <td>Los Angeles-Long Beach-Anaheim</td>\n",
       "      <td>-0.001218</td>\n",
       "      <td>0.005414</td>\n",
       "    </tr>\n",
       "  </tbody>\n",
       "</table>\n",
       "</div>"
      ],
      "text/plain": [
       "     year  month                           Metro  return_realestate  \\\n",
       "110  2019      3  Los Angeles-Long Beach-Anaheim          -0.002426   \n",
       "111  2019      4  Los Angeles-Long Beach-Anaheim          -0.001064   \n",
       "112  2019      5  Los Angeles-Long Beach-Anaheim           0.000456   \n",
       "113  2019      6  Los Angeles-Long Beach-Anaheim          -0.000760   \n",
       "114  2019      7  Los Angeles-Long Beach-Anaheim          -0.001218   \n",
       "\n",
       "     return_sp500  \n",
       "110      0.010953  \n",
       "111      0.027428  \n",
       "112     -0.058716  \n",
       "113      0.071894  \n",
       "114      0.005414  "
      ]
     },
     "execution_count": 9,
     "metadata": {},
     "output_type": "execute_result"
    }
   ],
   "source": [
    "returns.tail()"
   ]
  },
  {
   "cell_type": "code",
   "execution_count": 10,
   "metadata": {
    "ExecuteTime": {
     "end_time": "2019-09-30T17:55:58.926138Z",
     "start_time": "2019-09-30T17:55:58.668827Z"
    }
   },
   "outputs": [
    {
     "data": {
      "text/plain": [
       "<matplotlib.axes._subplots.AxesSubplot at 0x7fbfe04dd470>"
      ]
     },
     "execution_count": 10,
     "metadata": {},
     "output_type": "execute_result"
    },
    {
     "data": {
      "image/png": "[encoded data removed]",
      "text/plain": [
       "<Figure size 432x288 with 1 Axes>"
      ]
     },
     "metadata": {
      "needs_background": "light"
     },
     "output_type": "display_data"
    }
   ],
   "source": [
    "sns.lineplot(x=\"year\", y=\"return_realestate\", data=returns)"
   ]
  },
  {
   "cell_type": "code",
   "execution_count": 11,
   "metadata": {
    "ExecuteTime": {
     "end_time": "2019-09-30T17:55:59.149198Z",
     "start_time": "2019-09-30T17:55:58.927529Z"
    }
   },
   "outputs": [
    {
     "data": {
      "text/plain": [
       "<matplotlib.axes._subplots.AxesSubplot at 0x7fc015604e48>"
      ]
     },
     "execution_count": 11,
     "metadata": {},
     "output_type": "execute_result"
    },
    {
     "data": {
      "image/png": "[encoded data removed]",
      "text/plain": [
       "<Figure size 432x288 with 1 Axes>"
      ]
     },
     "metadata": {
      "needs_background": "light"
     },
     "output_type": "display_data"
    }
   ],
   "source": [
    "sns.lineplot(x=\"year\", y=\"return_sp500\", data=returns)"
   ]
  },
  {
   "cell_type": "code",
   "execution_count": 12,
   "metadata": {
    "ExecuteTime": {
     "end_time": "2019-09-30T17:55:59.169898Z",
     "start_time": "2019-09-30T17:55:59.150365Z"
    }
   },
   "outputs": [
    {
     "data": {
      "text/html": [
       "<div>\n",
       "<style scoped>\n",
       "    .dataframe tbody tr th:only-of-type {\n",
       "        vertical-align: middle;\n",
       "    }\n",
       "\n",
       "    .dataframe tbody tr th {\n",
       "        vertical-align: top;\n",
       "    }\n",
       "\n",
       "    .dataframe thead th {\n",
       "        text-align: right;\n",
       "    }\n",
       "</style>\n",
       "<table border=\"1\" class=\"dataframe\">\n",
       "  <thead>\n",
       "    <tr style=\"text-align: right;\">\n",
       "      <th></th>\n",
       "      <th>count</th>\n",
       "      <th>mean</th>\n",
       "      <th>std</th>\n",
       "      <th>min</th>\n",
       "      <th>25%</th>\n",
       "      <th>50%</th>\n",
       "      <th>75%</th>\n",
       "      <th>max</th>\n",
       "    </tr>\n",
       "  </thead>\n",
       "  <tbody>\n",
       "    <tr>\n",
       "      <th>year</th>\n",
       "      <td>115.0</td>\n",
       "      <td>2014.304348</td>\n",
       "      <td>2.785218</td>\n",
       "      <td>2010.000000</td>\n",
       "      <td>2012.000000</td>\n",
       "      <td>2014.000000</td>\n",
       "      <td>2017.000000</td>\n",
       "      <td>2019.000000</td>\n",
       "    </tr>\n",
       "    <tr>\n",
       "      <th>month</th>\n",
       "      <td>115.0</td>\n",
       "      <td>6.347826</td>\n",
       "      <td>3.448985</td>\n",
       "      <td>1.000000</td>\n",
       "      <td>3.000000</td>\n",
       "      <td>6.000000</td>\n",
       "      <td>9.000000</td>\n",
       "      <td>12.000000</td>\n",
       "    </tr>\n",
       "    <tr>\n",
       "      <th>return_realestate</th>\n",
       "      <td>115.0</td>\n",
       "      <td>0.004473</td>\n",
       "      <td>0.006429</td>\n",
       "      <td>-0.008689</td>\n",
       "      <td>0.001109</td>\n",
       "      <td>0.005215</td>\n",
       "      <td>0.007830</td>\n",
       "      <td>0.021234</td>\n",
       "    </tr>\n",
       "    <tr>\n",
       "      <th>return_sp500</th>\n",
       "      <td>115.0</td>\n",
       "      <td>0.007589</td>\n",
       "      <td>0.036672</td>\n",
       "      <td>-0.101607</td>\n",
       "      <td>-0.011502</td>\n",
       "      <td>0.011204</td>\n",
       "      <td>0.026938</td>\n",
       "      <td>0.140162</td>\n",
       "    </tr>\n",
       "  </tbody>\n",
       "</table>\n",
       "</div>"
      ],
      "text/plain": [
       "                   count         mean       std          min          25%  \\\n",
       "year               115.0  2014.304348  2.785218  2010.000000  2012.000000   \n",
       "month              115.0     6.347826  3.448985     1.000000     3.000000   \n",
       "return_realestate  115.0     0.004473  0.006429    -0.008689     0.001109   \n",
       "return_sp500       115.0     0.007589  0.036672    -0.101607    -0.011502   \n",
       "\n",
       "                           50%          75%          max  \n",
       "year               2014.000000  2017.000000  2019.000000  \n",
       "month                 6.000000     9.000000    12.000000  \n",
       "return_realestate     0.005215     0.007830     0.021234  \n",
       "return_sp500          0.011204     0.026938     0.140162  "
      ]
     },
     "execution_count": 12,
     "metadata": {},
     "output_type": "execute_result"
    }
   ],
   "source": [
    "returns.describe().T"
   ]
  },
  {
   "cell_type": "markdown",
   "metadata": {},
   "source": [
    "* Mean Return for sp500 is almost twice as high as real estate (see column mean above and rows with 'return')\n",
    "* However the returns to the sp500 are also much more volatile as seen by the std column for rows with 'returns')\n",
    "* Comparing the distribution plots of monthly returns, it is easy to see that the returns to the SP500 vary more than those of real estate "
   ]
  },
  {
   "cell_type": "code",
   "execution_count": 13,
   "metadata": {
    "ExecuteTime": {
     "end_time": "2019-09-30T17:55:59.310356Z",
     "start_time": "2019-09-30T17:55:59.171067Z"
    }
   },
   "outputs": [
    {
     "data": {
      "text/plain": [
       "<matplotlib.axes._subplots.AxesSubplot at 0x7fbfd11b0b00>"
      ]
     },
     "execution_count": 13,
     "metadata": {},
     "output_type": "execute_result"
    },
    {
     "data": {
      "image/png": "[encoded data removed]",
      "text/plain": [
       "<Figure size 432x288 with 1 Axes>"
      ]
     },
     "metadata": {
      "needs_background": "light"
     },
     "output_type": "display_data"
    }
   ],
   "source": [
    "sns.distplot(returns['return_realestate'], bins=15)"
   ]
  },
  {
   "cell_type": "code",
   "execution_count": 14,
   "metadata": {
    "ExecuteTime": {
     "end_time": "2019-09-30T17:55:59.499880Z",
     "start_time": "2019-09-30T17:55:59.312415Z"
    }
   },
   "outputs": [
    {
     "data": {
      "text/plain": [
       "<matplotlib.axes._subplots.AxesSubplot at 0x7fbf80037160>"
      ]
     },
     "execution_count": 14,
     "metadata": {},
     "output_type": "execute_result"
    },
    {
     "data": {
      "image/png": "[encoded data removed]",
      "text/plain": [
       "<Figure size 432x288 with 1 Axes>"
      ]
     },
     "metadata": {
      "needs_background": "light"
     },
     "output_type": "display_data"
    }
   ],
   "source": [
    "sns.distplot(returns['return_sp500'], bins=15)"
   ]
  },
  {
   "cell_type": "markdown",
   "metadata": {},
   "source": [
    "## IF Low Correlation Between RE and Stocks = Diversification is Possible to Reduce Risks"
   ]
  },
  {
   "cell_type": "code",
   "execution_count": 15,
   "metadata": {
    "ExecuteTime": {
     "end_time": "2019-09-30T17:55:59.954924Z",
     "start_time": "2019-09-30T17:55:59.501042Z"
    }
   },
   "outputs": [
    {
     "data": {
      "text/plain": [
       "<seaborn.axisgrid.JointGrid at 0x7fbfe114fdd8>"
      ]
     },
     "execution_count": 15,
     "metadata": {},
     "output_type": "execute_result"
    },
    {
     "data": {
      "image/png": "[encoded data removed]",
      "text/plain": [
       "<Figure size 432x432 with 3 Axes>"
      ]
     },
     "metadata": {
      "needs_background": "light"
     },
     "output_type": "display_data"
    }
   ],
   "source": [
    "sns.jointplot(x='return_sp500',y='return_realestate',data=returns,kind='reg')"
   ]
  },
  {
   "cell_type": "markdown",
   "metadata": {},
   "source": [
    "## Yearly Deviations Also Support the Case for Diversification\n",
    "\n",
    "* 2016 was a great year for real estate in Los Angeles, and somewhat average for the stock market\n",
    "* 2019 was not that great for home appreciation but the stock market growth was very impressive\n",
    "\n",
    "Diversifying across stocks and real estate can help smooth out the bumpiness of stock investments"
   ]
  },
  {
   "cell_type": "code",
   "execution_count": 16,
   "metadata": {
    "ExecuteTime": {
     "end_time": "2019-09-30T17:56:00.213972Z",
     "start_time": "2019-09-30T17:55:59.956166Z"
    }
   },
   "outputs": [
    {
     "data": {
      "text/plain": [
       "<matplotlib.axes._subplots.AxesSubplot at 0x7fbfd8507198>"
      ]
     },
     "execution_count": 16,
     "metadata": {},
     "output_type": "execute_result"
    },
    {
     "data": {
      "image/png": "[encoded data removed]",
      "text/plain": [
       "<Figure size 432x288 with 1 Axes>"
      ]
     },
     "metadata": {
      "needs_background": "light"
     },
     "output_type": "display_data"
    }
   ],
   "source": [
    "sns.boxplot(x=\"year\", y=\"return_realestate\", data=returns,palette='rainbow')"
   ]
  },
  {
   "cell_type": "code",
   "execution_count": 17,
   "metadata": {
    "ExecuteTime": {
     "end_time": "2019-09-30T17:56:00.424053Z",
     "start_time": "2019-09-30T17:56:00.215323Z"
    }
   },
   "outputs": [
    {
     "data": {
      "text/plain": [
       "<matplotlib.axes._subplots.AxesSubplot at 0x7fc0109c1630>"
      ]
     },
     "execution_count": 17,
     "metadata": {},
     "output_type": "execute_result"
    },
    {
     "data": {
      "image/png": "[encoded data removed]",
      "text/plain": [
       "<Figure size 432x288 with 1 Axes>"
      ]
     },
     "metadata": {
      "needs_background": "light"
     },
     "output_type": "display_data"
    }
   ],
   "source": [
    "sns.boxplot(x=\"year\", y=\"return_sp500\", data=returns,palette='rainbow')"
   ]
  },
  {
   "cell_type": "code",
   "execution_count": 18,
   "metadata": {
    "ExecuteTime": {
     "end_time": "2019-09-30T17:56:12.349235Z",
     "start_time": "2019-09-30T17:56:00.426080Z"
    }
   },
   "outputs": [
    {
     "data": {
      "text/html": [
       "<div>\n",
       "<style scoped>\n",
       "    .dataframe tbody tr th:only-of-type {\n",
       "        vertical-align: middle;\n",
       "    }\n",
       "\n",
       "    .dataframe tbody tr th {\n",
       "        vertical-align: top;\n",
       "    }\n",
       "\n",
       "    .dataframe thead th {\n",
       "        text-align: right;\n",
       "    }\n",
       "</style>\n",
       "<table border=\"1\" class=\"dataframe\">\n",
       "  <thead>\n",
       "    <tr style=\"text-align: right;\">\n",
       "      <th></th>\n",
       "      <th>count</th>\n",
       "      <th>mean</th>\n",
       "      <th>std</th>\n",
       "      <th>min</th>\n",
       "      <th>25%</th>\n",
       "      <th>50%</th>\n",
       "      <th>75%</th>\n",
       "      <th>max</th>\n",
       "    </tr>\n",
       "  </thead>\n",
       "  <tbody>\n",
       "    <tr>\n",
       "      <th>mean</th>\n",
       "      <td>48.0</td>\n",
       "      <td>0.007229</td>\n",
       "      <td>0.000221</td>\n",
       "      <td>0.006900</td>\n",
       "      <td>0.007075</td>\n",
       "      <td>0.007200</td>\n",
       "      <td>0.007400</td>\n",
       "      <td>0.00760</td>\n",
       "    </tr>\n",
       "    <tr>\n",
       "      <th>std</th>\n",
       "      <td>48.0</td>\n",
       "      <td>0.032258</td>\n",
       "      <td>0.002578</td>\n",
       "      <td>0.028000</td>\n",
       "      <td>0.030125</td>\n",
       "      <td>0.032250</td>\n",
       "      <td>0.034400</td>\n",
       "      <td>0.03650</td>\n",
       "    </tr>\n",
       "    <tr>\n",
       "      <th>weight_realestate</th>\n",
       "      <td>48.0</td>\n",
       "      <td>0.116150</td>\n",
       "      <td>0.070654</td>\n",
       "      <td>0.000000</td>\n",
       "      <td>0.058075</td>\n",
       "      <td>0.116150</td>\n",
       "      <td>0.174225</td>\n",
       "      <td>0.23230</td>\n",
       "    </tr>\n",
       "    <tr>\n",
       "      <th>weight_stocks</th>\n",
       "      <td>48.0</td>\n",
       "      <td>0.883850</td>\n",
       "      <td>0.070654</td>\n",
       "      <td>0.767700</td>\n",
       "      <td>0.825775</td>\n",
       "      <td>0.883850</td>\n",
       "      <td>0.941925</td>\n",
       "      <td>1.00000</td>\n",
       "    </tr>\n",
       "    <tr>\n",
       "      <th>annual_mean</th>\n",
       "      <td>48.0</td>\n",
       "      <td>0.090287</td>\n",
       "      <td>0.002873</td>\n",
       "      <td>0.086016</td>\n",
       "      <td>0.088283</td>\n",
       "      <td>0.089905</td>\n",
       "      <td>0.092505</td>\n",
       "      <td>0.09511</td>\n",
       "    </tr>\n",
       "  </tbody>\n",
       "</table>\n",
       "</div>"
      ],
      "text/plain": [
       "                   count      mean       std       min       25%       50%  \\\n",
       "mean                48.0  0.007229  0.000221  0.006900  0.007075  0.007200   \n",
       "std                 48.0  0.032258  0.002578  0.028000  0.030125  0.032250   \n",
       "weight_realestate   48.0  0.116150  0.070654  0.000000  0.058075  0.116150   \n",
       "weight_stocks       48.0  0.883850  0.070654  0.767700  0.825775  0.883850   \n",
       "annual_mean         48.0  0.090287  0.002873  0.086016  0.088283  0.089905   \n",
       "\n",
       "                        75%      max  \n",
       "mean               0.007400  0.00760  \n",
       "std                0.034400  0.03650  \n",
       "weight_realestate  0.174225  0.23230  \n",
       "weight_stocks      0.941925  1.00000  \n",
       "annual_mean        0.092505  0.09511  "
      ]
     },
     "execution_count": 18,
     "metadata": {},
     "output_type": "execute_result"
    }
   ],
   "source": [
    "re_stock_tool.main(city='Los Angeles', desired_returns=.095)"
   ]
  },
  {
   "cell_type": "code",
   "execution_count": 19,
   "metadata": {
    "ExecuteTime": {
     "end_time": "2019-09-30T17:56:23.066039Z",
     "start_time": "2019-09-30T17:56:12.350881Z"
    }
   },
   "outputs": [
    {
     "data": {
      "text/html": [
       "<div>\n",
       "<style scoped>\n",
       "    .dataframe tbody tr th:only-of-type {\n",
       "        vertical-align: middle;\n",
       "    }\n",
       "\n",
       "    .dataframe tbody tr th {\n",
       "        vertical-align: top;\n",
       "    }\n",
       "\n",
       "    .dataframe thead th {\n",
       "        text-align: right;\n",
       "    }\n",
       "</style>\n",
       "<table border=\"1\" class=\"dataframe\">\n",
       "  <thead>\n",
       "    <tr style=\"text-align: right;\">\n",
       "      <th></th>\n",
       "      <th>count</th>\n",
       "      <th>mean</th>\n",
       "      <th>std</th>\n",
       "      <th>min</th>\n",
       "      <th>25%</th>\n",
       "      <th>50%</th>\n",
       "      <th>75%</th>\n",
       "      <th>max</th>\n",
       "    </tr>\n",
       "  </thead>\n",
       "  <tbody>\n",
       "    <tr>\n",
       "      <th>mean</th>\n",
       "      <td>110.0</td>\n",
       "      <td>0.007227</td>\n",
       "      <td>0.000215</td>\n",
       "      <td>0.006900</td>\n",
       "      <td>0.007025</td>\n",
       "      <td>0.007200</td>\n",
       "      <td>0.007400</td>\n",
       "      <td>0.00760</td>\n",
       "    </tr>\n",
       "    <tr>\n",
       "      <th>std</th>\n",
       "      <td>110.0</td>\n",
       "      <td>0.026889</td>\n",
       "      <td>0.005606</td>\n",
       "      <td>0.017600</td>\n",
       "      <td>0.022000</td>\n",
       "      <td>0.026800</td>\n",
       "      <td>0.031700</td>\n",
       "      <td>0.03650</td>\n",
       "    </tr>\n",
       "    <tr>\n",
       "      <th>weight_realestate</th>\n",
       "      <td>110.0</td>\n",
       "      <td>0.272709</td>\n",
       "      <td>0.161081</td>\n",
       "      <td>0.000000</td>\n",
       "      <td>0.133825</td>\n",
       "      <td>0.272700</td>\n",
       "      <td>0.411575</td>\n",
       "      <td>0.54550</td>\n",
       "    </tr>\n",
       "    <tr>\n",
       "      <th>weight_stocks</th>\n",
       "      <td>110.0</td>\n",
       "      <td>0.727291</td>\n",
       "      <td>0.161081</td>\n",
       "      <td>0.454500</td>\n",
       "      <td>0.588425</td>\n",
       "      <td>0.727300</td>\n",
       "      <td>0.866175</td>\n",
       "      <td>1.00000</td>\n",
       "    </tr>\n",
       "    <tr>\n",
       "      <th>annual_mean</th>\n",
       "      <td>110.0</td>\n",
       "      <td>0.090262</td>\n",
       "      <td>0.002787</td>\n",
       "      <td>0.086016</td>\n",
       "      <td>0.087635</td>\n",
       "      <td>0.089905</td>\n",
       "      <td>0.092505</td>\n",
       "      <td>0.09511</td>\n",
       "    </tr>\n",
       "  </tbody>\n",
       "</table>\n",
       "</div>"
      ],
      "text/plain": [
       "                   count      mean       std       min       25%       50%  \\\n",
       "mean               110.0  0.007227  0.000215  0.006900  0.007025  0.007200   \n",
       "std                110.0  0.026889  0.005606  0.017600  0.022000  0.026800   \n",
       "weight_realestate  110.0  0.272709  0.161081  0.000000  0.133825  0.272700   \n",
       "weight_stocks      110.0  0.727291  0.161081  0.454500  0.588425  0.727300   \n",
       "annual_mean        110.0  0.090262  0.002787  0.086016  0.087635  0.089905   \n",
       "\n",
       "                        75%      max  \n",
       "mean               0.007400  0.00760  \n",
       "std                0.031700  0.03650  \n",
       "weight_realestate  0.411575  0.54550  \n",
       "weight_stocks      0.866175  1.00000  \n",
       "annual_mean        0.092505  0.09511  "
      ]
     },
     "execution_count": 19,
     "metadata": {},
     "output_type": "execute_result"
    }
   ],
   "source": [
    "re_stock_tool.main(city='Las Vegas', desired_returns=.095)"
   ]
  },
  {
   "cell_type": "code",
   "execution_count": 20,
   "metadata": {
    "ExecuteTime": {
     "end_time": "2019-09-30T17:56:35.540520Z",
     "start_time": "2019-09-30T17:56:23.067099Z"
    }
   },
   "outputs": [
    {
     "data": {
      "text/html": [
       "<div>\n",
       "<style scoped>\n",
       "    .dataframe tbody tr th:only-of-type {\n",
       "        vertical-align: middle;\n",
       "    }\n",
       "\n",
       "    .dataframe tbody tr th {\n",
       "        vertical-align: top;\n",
       "    }\n",
       "\n",
       "    .dataframe thead th {\n",
       "        text-align: right;\n",
       "    }\n",
       "</style>\n",
       "<table border=\"1\" class=\"dataframe\">\n",
       "  <thead>\n",
       "    <tr style=\"text-align: right;\">\n",
       "      <th></th>\n",
       "      <th>count</th>\n",
       "      <th>mean</th>\n",
       "      <th>std</th>\n",
       "      <th>min</th>\n",
       "      <th>25%</th>\n",
       "      <th>50%</th>\n",
       "      <th>75%</th>\n",
       "      <th>max</th>\n",
       "    </tr>\n",
       "  </thead>\n",
       "  <tbody>\n",
       "    <tr>\n",
       "      <th>mean</th>\n",
       "      <td>96.0</td>\n",
       "      <td>0.007223</td>\n",
       "      <td>0.000218</td>\n",
       "      <td>0.006900</td>\n",
       "      <td>0.007000</td>\n",
       "      <td>0.007200</td>\n",
       "      <td>0.007400</td>\n",
       "      <td>0.00760</td>\n",
       "    </tr>\n",
       "    <tr>\n",
       "      <th>std</th>\n",
       "      <td>96.0</td>\n",
       "      <td>0.027987</td>\n",
       "      <td>0.005020</td>\n",
       "      <td>0.019600</td>\n",
       "      <td>0.023725</td>\n",
       "      <td>0.027950</td>\n",
       "      <td>0.032200</td>\n",
       "      <td>0.03650</td>\n",
       "    </tr>\n",
       "    <tr>\n",
       "      <th>weight_realestate</th>\n",
       "      <td>96.0</td>\n",
       "      <td>0.237350</td>\n",
       "      <td>0.140654</td>\n",
       "      <td>0.000000</td>\n",
       "      <td>0.118675</td>\n",
       "      <td>0.237350</td>\n",
       "      <td>0.356025</td>\n",
       "      <td>0.47470</td>\n",
       "    </tr>\n",
       "    <tr>\n",
       "      <th>weight_stocks</th>\n",
       "      <td>96.0</td>\n",
       "      <td>0.762650</td>\n",
       "      <td>0.140654</td>\n",
       "      <td>0.525300</td>\n",
       "      <td>0.643975</td>\n",
       "      <td>0.762650</td>\n",
       "      <td>0.881325</td>\n",
       "      <td>1.00000</td>\n",
       "    </tr>\n",
       "    <tr>\n",
       "      <th>annual_mean</th>\n",
       "      <td>96.0</td>\n",
       "      <td>0.090206</td>\n",
       "      <td>0.002836</td>\n",
       "      <td>0.086016</td>\n",
       "      <td>0.087311</td>\n",
       "      <td>0.089905</td>\n",
       "      <td>0.092505</td>\n",
       "      <td>0.09511</td>\n",
       "    </tr>\n",
       "  </tbody>\n",
       "</table>\n",
       "</div>"
      ],
      "text/plain": [
       "                   count      mean       std       min       25%       50%  \\\n",
       "mean                96.0  0.007223  0.000218  0.006900  0.007000  0.007200   \n",
       "std                 96.0  0.027987  0.005020  0.019600  0.023725  0.027950   \n",
       "weight_realestate   96.0  0.237350  0.140654  0.000000  0.118675  0.237350   \n",
       "weight_stocks       96.0  0.762650  0.140654  0.525300  0.643975  0.762650   \n",
       "annual_mean         96.0  0.090206  0.002836  0.086016  0.087311  0.089905   \n",
       "\n",
       "                        75%      max  \n",
       "mean               0.007400  0.00760  \n",
       "std                0.032200  0.03650  \n",
       "weight_realestate  0.356025  0.47470  \n",
       "weight_stocks      0.881325  1.00000  \n",
       "annual_mean        0.092505  0.09511  "
      ]
     },
     "execution_count": 20,
     "metadata": {},
     "output_type": "execute_result"
    }
   ],
   "source": [
    "re_stock_tool.main(city='San Francisco', desired_returns=.095)"
   ]
  },
  {
   "cell_type": "code",
   "execution_count": 21,
   "metadata": {
    "ExecuteTime": {
     "end_time": "2019-09-30T17:56:46.452495Z",
     "start_time": "2019-09-30T17:56:35.541573Z"
    }
   },
   "outputs": [
    {
     "data": {
      "text/html": [
       "<div>\n",
       "<style scoped>\n",
       "    .dataframe tbody tr th:only-of-type {\n",
       "        vertical-align: middle;\n",
       "    }\n",
       "\n",
       "    .dataframe tbody tr th {\n",
       "        vertical-align: top;\n",
       "    }\n",
       "\n",
       "    .dataframe thead th {\n",
       "        text-align: right;\n",
       "    }\n",
       "</style>\n",
       "<table border=\"1\" class=\"dataframe\">\n",
       "  <thead>\n",
       "    <tr style=\"text-align: right;\">\n",
       "      <th></th>\n",
       "      <th>count</th>\n",
       "      <th>mean</th>\n",
       "      <th>std</th>\n",
       "      <th>min</th>\n",
       "      <th>25%</th>\n",
       "      <th>50%</th>\n",
       "      <th>75%</th>\n",
       "      <th>max</th>\n",
       "    </tr>\n",
       "  </thead>\n",
       "  <tbody>\n",
       "    <tr>\n",
       "      <th>mean</th>\n",
       "      <td>26.0</td>\n",
       "      <td>0.007223</td>\n",
       "      <td>0.000230</td>\n",
       "      <td>0.006900</td>\n",
       "      <td>0.007000</td>\n",
       "      <td>0.007200</td>\n",
       "      <td>0.007400</td>\n",
       "      <td>0.00760</td>\n",
       "    </tr>\n",
       "    <tr>\n",
       "      <th>std</th>\n",
       "      <td>26.0</td>\n",
       "      <td>0.034300</td>\n",
       "      <td>0.001397</td>\n",
       "      <td>0.032100</td>\n",
       "      <td>0.033200</td>\n",
       "      <td>0.034300</td>\n",
       "      <td>0.035400</td>\n",
       "      <td>0.03650</td>\n",
       "    </tr>\n",
       "    <tr>\n",
       "      <th>weight_realestate</th>\n",
       "      <td>26.0</td>\n",
       "      <td>0.060600</td>\n",
       "      <td>0.038539</td>\n",
       "      <td>0.000000</td>\n",
       "      <td>0.030300</td>\n",
       "      <td>0.060600</td>\n",
       "      <td>0.090900</td>\n",
       "      <td>0.12120</td>\n",
       "    </tr>\n",
       "    <tr>\n",
       "      <th>weight_stocks</th>\n",
       "      <td>26.0</td>\n",
       "      <td>0.939400</td>\n",
       "      <td>0.038539</td>\n",
       "      <td>0.878800</td>\n",
       "      <td>0.909100</td>\n",
       "      <td>0.939400</td>\n",
       "      <td>0.969700</td>\n",
       "      <td>1.00000</td>\n",
       "    </tr>\n",
       "    <tr>\n",
       "      <th>annual_mean</th>\n",
       "      <td>26.0</td>\n",
       "      <td>0.090208</td>\n",
       "      <td>0.002992</td>\n",
       "      <td>0.086016</td>\n",
       "      <td>0.087311</td>\n",
       "      <td>0.089905</td>\n",
       "      <td>0.092505</td>\n",
       "      <td>0.09511</td>\n",
       "    </tr>\n",
       "  </tbody>\n",
       "</table>\n",
       "</div>"
      ],
      "text/plain": [
       "                   count      mean       std       min       25%       50%  \\\n",
       "mean                26.0  0.007223  0.000230  0.006900  0.007000  0.007200   \n",
       "std                 26.0  0.034300  0.001397  0.032100  0.033200  0.034300   \n",
       "weight_realestate   26.0  0.060600  0.038539  0.000000  0.030300  0.060600   \n",
       "weight_stocks       26.0  0.939400  0.038539  0.878800  0.909100  0.939400   \n",
       "annual_mean         26.0  0.090208  0.002992  0.086016  0.087311  0.089905   \n",
       "\n",
       "                        75%      max  \n",
       "mean               0.007400  0.00760  \n",
       "std                0.035400  0.03650  \n",
       "weight_realestate  0.090900  0.12120  \n",
       "weight_stocks      0.969700  1.00000  \n",
       "annual_mean        0.092505  0.09511  "
      ]
     },
     "execution_count": 21,
     "metadata": {},
     "output_type": "execute_result"
    }
   ],
   "source": [
    "re_stock_tool.main(city='Chicago', desired_returns=.095)"
   ]
  },
  {
   "cell_type": "code",
   "execution_count": 23,
   "metadata": {
    "ExecuteTime": {
     "end_time": "2019-09-30T18:00:08.772676Z",
     "start_time": "2019-09-30T17:59:58.331745Z"
    }
   },
   "outputs": [
    {
     "data": {
      "text/html": [
       "<div>\n",
       "<style scoped>\n",
       "    .dataframe tbody tr th:only-of-type {\n",
       "        vertical-align: middle;\n",
       "    }\n",
       "\n",
       "    .dataframe tbody tr th {\n",
       "        vertical-align: top;\n",
       "    }\n",
       "\n",
       "    .dataframe thead th {\n",
       "        text-align: right;\n",
       "    }\n",
       "</style>\n",
       "<table border=\"1\" class=\"dataframe\">\n",
       "  <thead>\n",
       "    <tr style=\"text-align: right;\">\n",
       "      <th></th>\n",
       "      <th>count</th>\n",
       "      <th>mean</th>\n",
       "      <th>std</th>\n",
       "      <th>min</th>\n",
       "      <th>25%</th>\n",
       "      <th>50%</th>\n",
       "      <th>75%</th>\n",
       "      <th>max</th>\n",
       "    </tr>\n",
       "  </thead>\n",
       "  <tbody>\n",
       "    <tr>\n",
       "      <th>mean</th>\n",
       "      <td>30.0</td>\n",
       "      <td>0.007227</td>\n",
       "      <td>0.000221</td>\n",
       "      <td>0.006900</td>\n",
       "      <td>0.007025</td>\n",
       "      <td>0.007200</td>\n",
       "      <td>0.007400</td>\n",
       "      <td>0.00760</td>\n",
       "    </tr>\n",
       "    <tr>\n",
       "      <th>std</th>\n",
       "      <td>30.0</td>\n",
       "      <td>0.033847</td>\n",
       "      <td>0.001658</td>\n",
       "      <td>0.031200</td>\n",
       "      <td>0.032400</td>\n",
       "      <td>0.033800</td>\n",
       "      <td>0.035300</td>\n",
       "      <td>0.03650</td>\n",
       "    </tr>\n",
       "    <tr>\n",
       "      <th>weight_realestate</th>\n",
       "      <td>30.0</td>\n",
       "      <td>0.070700</td>\n",
       "      <td>0.044383</td>\n",
       "      <td>0.000000</td>\n",
       "      <td>0.032825</td>\n",
       "      <td>0.070700</td>\n",
       "      <td>0.108575</td>\n",
       "      <td>0.14140</td>\n",
       "    </tr>\n",
       "    <tr>\n",
       "      <th>weight_stocks</th>\n",
       "      <td>30.0</td>\n",
       "      <td>0.929300</td>\n",
       "      <td>0.044383</td>\n",
       "      <td>0.858600</td>\n",
       "      <td>0.891425</td>\n",
       "      <td>0.929300</td>\n",
       "      <td>0.967175</td>\n",
       "      <td>1.00000</td>\n",
       "    </tr>\n",
       "    <tr>\n",
       "      <th>annual_mean</th>\n",
       "      <td>30.0</td>\n",
       "      <td>0.090255</td>\n",
       "      <td>0.002873</td>\n",
       "      <td>0.086016</td>\n",
       "      <td>0.087635</td>\n",
       "      <td>0.089905</td>\n",
       "      <td>0.092505</td>\n",
       "      <td>0.09511</td>\n",
       "    </tr>\n",
       "  </tbody>\n",
       "</table>\n",
       "</div>"
      ],
      "text/plain": [
       "                   count      mean       std       min       25%       50%  \\\n",
       "mean                30.0  0.007227  0.000221  0.006900  0.007025  0.007200   \n",
       "std                 30.0  0.033847  0.001658  0.031200  0.032400  0.033800   \n",
       "weight_realestate   30.0  0.070700  0.044383  0.000000  0.032825  0.070700   \n",
       "weight_stocks       30.0  0.929300  0.044383  0.858600  0.891425  0.929300   \n",
       "annual_mean         30.0  0.090255  0.002873  0.086016  0.087635  0.089905   \n",
       "\n",
       "                        75%      max  \n",
       "mean               0.007400  0.00760  \n",
       "std                0.035300  0.03650  \n",
       "weight_realestate  0.108575  0.14140  \n",
       "weight_stocks      0.967175  1.00000  \n",
       "annual_mean        0.092505  0.09511  "
      ]
     },
     "execution_count": 23,
     "metadata": {},
     "output_type": "execute_result"
    }
   ],
   "source": [
    "re_stock_tool.main(city='West New York', desired_returns=.095)"
   ]
  },
  {
   "cell_type": "code",
   "execution_count": null,
   "metadata": {},
   "outputs": [],
   "source": []
  }
 ],
 "metadata": {
  "hide_input": false,
  "kernelspec": {
   "display_name": "Python 3",
   "language": "python",
   "name": "python3"
  },
  "language_info": {
   "codemirror_mode": {
    "name": "ipython",
    "version": 3
   },
   "file_extension": ".py",
   "mimetype": "text/x-python",
   "name": "python",
   "nbconvert_exporter": "python",
   "pygments_lexer": "ipython3",
   "version": "3.7.3"
  },
  "toc": {
   "base_numbering": 1,
   "nav_menu": {},
   "number_sections": true,
   "sideBar": true,
   "skip_h1_title": false,
   "title_cell": "Table of Contents",
   "title_sidebar": "Contents",
   "toc_cell": false,
   "toc_position": {},
   "toc_section_display": true,
   "toc_window_display": false
  },
  "varInspector": {
   "cols": {
    "lenName": 16,
    "lenType": 16,
    "lenVar": 40
   },
   "kernels_config": {
    "python": {
     "delete_cmd_postfix": "",
     "delete_cmd_prefix": "del ",
     "library": "var_list.py",
     "varRefreshCmd": "print(var_dic_list())"
    },
    "r": {
     "delete_cmd_postfix": ") ",
     "delete_cmd_prefix": "rm(",
     "library": "var_list.r",
     "varRefreshCmd": "cat(var_dic_list()) "
    }
   },
   "types_to_exclude": [
    "module",
    "function",
    "builtin_function_or_method",
    "instance",
    "_Feature"
   ],
   "window_display": false
  }
 },
 "nbformat": 4,
 "nbformat_minor": 2
}
