{
 "cells": [
  {
   "cell_type": "code",
   "execution_count": 1,
   "metadata": {},
   "outputs": [
    {
     "name": "stdout",
     "output_type": "stream",
     "text": [
      "00_re_stock_tool.ipynb              City_Zhvi_3bedroom.csv\r\n",
      "01_exploratory_analysis.ipynb       __init__.py\r\n",
      "02_re_market_correlations.ipynb     \u001b[34m__pycache__\u001b[m\u001b[m\r\n",
      "City_MedianRentalPrice_3Bedroom.csv re_stock_tool.py\r\n"
     ]
    }
   ],
   "source": [
    "!ls"
   ]
  },
  {
   "cell_type": "code",
   "execution_count": 2,
   "metadata": {},
   "outputs": [],
   "source": [
    "import re_stock_tool"
   ]
  },
  {
   "cell_type": "code",
   "execution_count": 3,
   "metadata": {},
   "outputs": [
    {
     "name": "stdout",
     "output_type": "stream",
     "text": [
      "Help on module re_stock_tool:\n",
      "\n",
      "NAME\n",
      "    re_stock_tool - # coding: utf-8\n",
      "\n",
      "FUNCTIONS\n",
      "    get_city_list()\n",
      "    \n",
      "    get_sp_500()\n",
      "    \n",
      "    main(city, desired_returns)\n",
      "    \n",
      "    merge_data(city)\n",
      "    \n",
      "    mpt(df, desired_returns)\n",
      "    \n",
      "    prep_zillow(mycsv, value_name)\n",
      "    \n",
      "    total_return(prices)\n",
      "        Retuns the return between the first and last value of the DataFrame.\n",
      "        Parameters\n",
      "        ----------\n",
      "        prices : pandas.Series or pandas.DataFrame\n",
      "        Returns\n",
      "        -------\n",
      "        total_return : float or pandas.Series\n",
      "            Depending on the input passed returns a float or a pandas.Series.\n",
      "    \n",
      "    ui()\n",
      "\n",
      "FILE\n",
      "    /Users/jjespinoza/Documents/personal/realestate_vs_stocks/re_stock_tool.py\n",
      "\n",
      "\n"
     ]
    }
   ],
   "source": [
    "help(re_stock_tool)"
   ]
  },
  {
   "cell_type": "code",
   "execution_count": null,
   "metadata": {},
   "outputs": [],
   "source": [
    "prices = re_stock_tool.prep_zillow(mycsv='City_Zhvi_3bedroom', value_name='prices')\n",
    "prices.reset_index(inplace=True)"
   ]
  },
  {
   "cell_type": "code",
   "execution_count": null,
   "metadata": {},
   "outputs": [
    {
     "data": {
      "text/html": [
       "<div>\n",
       "<style scoped>\n",
       "    .dataframe tbody tr th:only-of-type {\n",
       "        vertical-align: middle;\n",
       "    }\n",
       "\n",
       "    .dataframe tbody tr th {\n",
       "        vertical-align: top;\n",
       "    }\n",
       "\n",
       "    .dataframe thead th {\n",
       "        text-align: right;\n",
       "    }\n",
       "</style>\n",
       "<table border=\"1\" class=\"dataframe\">\n",
       "  <thead>\n",
       "    <tr style=\"text-align: right;\">\n",
       "      <th></th>\n",
       "      <th>RegionName</th>\n",
       "      <th>State</th>\n",
       "      <th>Year_Month</th>\n",
       "      <th>Metro</th>\n",
       "      <th>CountyName</th>\n",
       "      <th>SizeRank</th>\n",
       "      <th>prices</th>\n",
       "    </tr>\n",
       "  </thead>\n",
       "  <tbody>\n",
       "    <tr>\n",
       "      <th>0</th>\n",
       "      <td>Aberdeen</td>\n",
       "      <td>ID</td>\n",
       "      <td>1996-04</td>\n",
       "      <td>Blackfoot</td>\n",
       "      <td>Bingham County</td>\n",
       "      <td>6495</td>\n",
       "      <td>63300.0</td>\n",
       "    </tr>\n",
       "    <tr>\n",
       "      <th>1</th>\n",
       "      <td>Aberdeen</td>\n",
       "      <td>ID</td>\n",
       "      <td>1996-05</td>\n",
       "      <td>Blackfoot</td>\n",
       "      <td>Bingham County</td>\n",
       "      <td>6495</td>\n",
       "      <td>63800.0</td>\n",
       "    </tr>\n",
       "    <tr>\n",
       "      <th>2</th>\n",
       "      <td>Aberdeen</td>\n",
       "      <td>ID</td>\n",
       "      <td>1996-06</td>\n",
       "      <td>Blackfoot</td>\n",
       "      <td>Bingham County</td>\n",
       "      <td>6495</td>\n",
       "      <td>64300.0</td>\n",
       "    </tr>\n",
       "    <tr>\n",
       "      <th>3</th>\n",
       "      <td>Aberdeen</td>\n",
       "      <td>ID</td>\n",
       "      <td>1996-07</td>\n",
       "      <td>Blackfoot</td>\n",
       "      <td>Bingham County</td>\n",
       "      <td>6495</td>\n",
       "      <td>64800.0</td>\n",
       "    </tr>\n",
       "    <tr>\n",
       "      <th>4</th>\n",
       "      <td>Aberdeen</td>\n",
       "      <td>ID</td>\n",
       "      <td>1996-08</td>\n",
       "      <td>Blackfoot</td>\n",
       "      <td>Bingham County</td>\n",
       "      <td>6495</td>\n",
       "      <td>65300.0</td>\n",
       "    </tr>\n",
       "  </tbody>\n",
       "</table>\n",
       "</div>"
      ],
      "text/plain": [
       "  RegionName State Year_Month      Metro      CountyName  SizeRank   prices\n",
       "0   Aberdeen    ID    1996-04  Blackfoot  Bingham County      6495  63300.0\n",
       "1   Aberdeen    ID    1996-05  Blackfoot  Bingham County      6495  63800.0\n",
       "2   Aberdeen    ID    1996-06  Blackfoot  Bingham County      6495  64300.0\n",
       "3   Aberdeen    ID    1996-07  Blackfoot  Bingham County      6495  64800.0\n",
       "4   Aberdeen    ID    1996-08  Blackfoot  Bingham County      6495  65300.0"
      ]
     },
     "execution_count": 5,
     "metadata": {},
     "output_type": "execute_result"
    }
   ],
   "source": [
    "prices.head()"
   ]
  },
  {
   "cell_type": "code",
   "execution_count": null,
   "metadata": {},
   "outputs": [],
   "source": [
    "pivoted = prices.pivot(columns='RegionName', values='prices')"
   ]
  },
  {
   "cell_type": "code",
   "execution_count": null,
   "metadata": {},
   "outputs": [],
   "source": [
    "pivoted.corr()"
   ]
  },
  {
   "cell_type": "code",
   "execution_count": null,
   "metadata": {},
   "outputs": [],
   "source": []
  }
 ],
 "metadata": {
  "kernelspec": {
   "display_name": "Python 3",
   "language": "python",
   "name": "python3"
  },
  "language_info": {
   "codemirror_mode": {
    "name": "ipython",
    "version": 3
   },
   "file_extension": ".py",
   "mimetype": "text/x-python",
   "name": "python",
   "nbconvert_exporter": "python",
   "pygments_lexer": "ipython3",
   "version": "3.7.3"
  }
 },
 "nbformat": 4,
 "nbformat_minor": 2
}
